{
 "cells": [
  {
   "attachments": {},
   "cell_type": "markdown",
   "metadata": {},
   "source": [
    "# Decision and Planning\n",
    "\n",
    "This project implements a behavioural planning and a motion planning algorithm to enable high level collision avoidance, junction management and path following for an autonomous vehicle in a simulated environment."
   ]
  },
  {
   "attachments": {},
   "cell_type": "markdown",
   "metadata": {},
   "source": [
    "## Set Up\n",
    "\n",
    "**TO DO**"
   ]
  },
  {
   "attachments": {},
   "cell_type": "markdown",
   "metadata": {},
   "source": [
    "## Behavioural Planning\n",
    "\n",
    "The planning is achieved based on an Finite State Machine algorithm. We have a given set of states and transitions that will be triggered by specific events. There are three states in this algorithm:\n",
    "\n",
    "- Lane Following\n",
    "- Declaration Stop\n",
    "- Stop\n",
    "\n",
    "The transitions between the states are triggered by the distance between the ego vehicle and other vehicles and the path to the next waypoint.\n",
    "\n",
    "**TODO: Graph of States and Transisions**\n"
   ]
  },
  {
   "attachments": {},
   "cell_type": "markdown",
   "metadata": {},
   "source": [
    "## Path and Trajectory Generation using cubic spirals\n",
    "\n",
    "Calculation of the path is done based on cubic spirals. Cubic spirals are 3rd grade polynomial equations that describe the curvature along a path. Our path has a position, a heading and a curvature. The curvature it self has constraints that must be satisfied to count as a valid path, in our case this is the minimal turning radius of the vehicle. In case of lane following, having the same curvature as the road is considered optimal.\n",
    "\n",
    "### Offset Goals\n",
    "When following a lane, the next goal for the path lies in the center of the lane with the curvature similar to the road. But this is only valid if there are no obstacles like other cars or road blocks. To be able to calculate an alternative path, we need offset goals that can alternatevly be achieved if our main goal is not possible. The offset goals must be perpendicular to the main goal heading and are lying within a constant distance along a line left and right to the main goal.\n",
    "\n",
    "\n",
    "Equations and variables:\n",
    "\n",
    "- **Xoffset** and **Yoffset**: These represent the x and y coordinates of each offset goal.\n",
    "- **Xcenter** and **Ycenter**: These represent the x and y coordinates of the center goal.\n",
    "- **goal_number**: This variable represents the index of the offset goal. It can take values from -n to n, where n is the maximum number of offset goals you want to generate. For example, if n is 2, the goal_number will be -2, -1, 0, 1, and 2.\n",
    "- **Offset_distance**: This is the distance between the center goal and each offset goal. It determines how far each goal will be positioned from the center goal.\n",
    "- **𝜃**: This represents the heading angle of the center goal.\n",
    "\n",
    "The equations for calculating the x and y coordinates of the offset goals are as follows:\n",
    "\n",
    "Xoffset = Xcenter + goal_number * Offset_distance * cos(𝜃 + 𝜋/2)\n",
    "\n",
    "Yoffset = Ycenter + goal_number * Offset_distance * sin(𝜃 + 𝜋/2)\n",
    "\n",
    "### Collision Checking\n",
    "\n",
    "One of the most effictive ways of collision checking is using circle detection. The vehicle will be enclosed in a set of circles in a wayt that the whole vehicle shape is covered when viewed from a top down perspective. Three circles are optimal for a regular compact car. A collision can easily be caluclated if the **distance between the centers of two circles is smaller than the sum of its radii**.\n",
    "\n",
    "**TO DO Spiral Cost Function**\n",
    "\n"
   ]
  },
  {
   "attachments": {},
   "cell_type": "markdown",
   "metadata": {},
   "source": [
    "## Velocity Profile Generation\n",
    "\n",
    "The velocity profile should give us a policy to which degree the vehicle accelerate or decelerate. To this end it is useful to assign every path point (goal) a target speed. To generate a profile we have to take three factors into account:\n",
    "\n",
    "- Reference Speed: this is the maximal allowed speed if we have no obstacles, or 0 if we have to brake (decided by the behaviour planner)\n",
    "- Leading vehicle speed: the speed of a potential vehicle in front of us\n",
    "- Curvature speed: the maximal possible speed at the curvature of the path point and the highest comfortable lateral acceleration\n",
    "\n",
    "These three variables will form the final speed at the end of every path section, by simply choosing the smalles of these three. In case of a leading vehicle we must take a safety distance into account and potentially set the final speed to the speed of the leading vehicle already a couple of path points before the leading vehicle, to ensure enough time and distance for a breaking manouver.\n",
    "\n",
    "Because we have only three states in our algorithm (Lane following, declaration stop, stop) we need profiles for only two states:\n",
    "- **Follow Lane** (maintaining speed target)\n",
    "- **Decelerate to stop** (smooth deceleration to a stop)\n",
    "\n",
    "The implemented velocity profile calculates a linear profile by calculating the final speed with respect to initial speed, acceleration and distance to the path point and by calculating the distance traveled with respect to the inital speed, acceleration and final speed.\n"
   ]
  },
  {
   "attachments": {},
   "cell_type": "markdown",
   "metadata": {},
   "source": [
    "## Analysis\n",
    "\n",
    "**TO DO**"
   ]
  }
 ],
 "metadata": {
  "language_info": {
   "name": "python"
  },
  "orig_nbformat": 4
 },
 "nbformat": 4,
 "nbformat_minor": 2
}
