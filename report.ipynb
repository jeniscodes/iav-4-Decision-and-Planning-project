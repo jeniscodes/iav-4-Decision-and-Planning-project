{
 "cells": [
  {
   "attachments": {},
   "cell_type": "markdown",
   "metadata": {},
   "source": [
    "# Decision and Planning\n",
    "\n",
    "This project implements a behavioural planning and a motion planning algorithm to enable high level collision avoidance, junction management and path following for an autonomous vehicle in a simulated environment."
   ]
  },
  {
   "attachments": {},
   "cell_type": "markdown",
   "metadata": {},
   "source": [
    "## Set Up\n",
    "\n",
    "**TO DO**"
   ]
  },
  {
   "attachments": {},
   "cell_type": "markdown",
   "metadata": {},
   "source": [
    "## Behavioural Planning\n",
    "\n",
    "The planning is achieved based on an Finite State Machine algorithm. We have a given set of states and transitions that will be triggered by specific events. There are three states in this algorithm:\n",
    "\n",
    "- Lane Following\n",
    "- Declaration Stop\n",
    "- Stop\n",
    "\n",
    "The transitions between the states are triggered by the distance between the ego vehicle and other vehicles and the path to the next waypoint.\n",
    "\n",
    "**TODO: Graph of States and Transisions**\n"
   ]
  },
  {
   "attachments": {},
   "cell_type": "markdown",
   "metadata": {},
   "source": [
    "## Path and Trajectory Generation\n",
    "\n",
    "Calculation of the path is done based on cubic spirals. Cubic spirals are 3rd grade polynomial equations that describe the curvature along a path. Our path has a position, a heading and a curvature. The curvature it self has constraints that must be satisfied to count as a valid path, in our case this is the minimal turning radius of the vehicle. In case of lane following, having the same curvature as the road is considered optimal.\n",
    "\n",
    "### Offset Goals\n",
    "When following a lane, the next goal for the path lies in the center of the lane with the curvature similar to the road. But this is only valid if there are no obstacles like other cars or road blocks. To be able to calculate an alternative path, we need offset goals that can alternatevly be achieved if our main goal is not possible. The offset goals must be perpendicular to the main goal heading and are lying within a constant distance along a line left and right to the main goal.\n",
    "\n",
    "**TO DO Offset Calculations**\n",
    "\n",
    "### Collision Checking\n",
    "\n",
    "One of the most effictive ways of collision checking is using circle detection. The vehicle will be enclosed in a set of circles in a wayt that the whole vehicle shape is covered when viewed from a top down perspective. Three circles are optimal for a regular compact car. A collision can easily be caluclated if the **distance between the centers of two circles is smaller than the sum of its radii**.\n",
    "\n",
    "**TO DO Spiral Cost Function**\n",
    "\n"
   ]
  },
  {
   "attachments": {},
   "cell_type": "markdown",
   "metadata": {},
   "source": [
    "## Velocity Profile Generation\n",
    "\n",
    "**TO DO**"
   ]
  },
  {
   "attachments": {},
   "cell_type": "markdown",
   "metadata": {},
   "source": [
    "## Analysis\n",
    "\n",
    "**TO DO**"
   ]
  }
 ],
 "metadata": {
  "language_info": {
   "name": "python"
  },
  "orig_nbformat": 4
 },
 "nbformat": 4,
 "nbformat_minor": 2
}
